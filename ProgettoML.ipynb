{
  "nbformat": 4,
  "nbformat_minor": 0,
  "metadata": {
    "colab": {
      "provenance": [],
      "toc_visible": true,
      "include_colab_link": true
    },
    "kernelspec": {
      "name": "python3",
      "display_name": "Python 3"
    },
    "language_info": {
      "name": "python"
    }
  },
  "cells": [
    {
      "cell_type": "markdown",
      "metadata": {
        "id": "view-in-github",
        "colab_type": "text"
      },
      "source": [
        "<a href=\"https://colab.research.google.com/github/Polidori1999/MachineLearning/blob/main/ProgettoML.ipynb\" target=\"_parent\"><img src=\"https://colab.research.google.com/assets/colab-badge.svg\" alt=\"Open In Colab\"/></a>"
      ]
    },
    {
      "cell_type": "code",
      "execution_count": null,
      "metadata": {
        "id": "EpkFqno5Y-aU"
      },
      "outputs": [],
      "source": [
        "#prova2"
      ]
    },
    {
      "cell_type": "code",
      "source": [
        "!pip install --upgrade gdown\n",
        "!gdown --id 19ns_e4c6fFCSgH-plXkp9FzACF8KqB57\n",
        "\n",
        "import pandas as pd\n",
        "\n",
        "# Ora puoi caricare il dataset (assumendo che il file si chiami KDDTrainClean.csv)\n",
        "df = pd.read_csv(\"KDDTrainClean.csv\")\n",
        "print(df.head())\n"
      ],
      "metadata": {
        "colab": {
          "base_uri": "https://localhost:8080/"
        },
        "id": "zzNyFzFrgs6w",
        "outputId": "1aaebfac-7a1c-43f4-b12b-4cf83ca6939c"
      },
      "execution_count": null,
      "outputs": [
        {
          "output_type": "stream",
          "name": "stdout",
          "text": [
            "Drive already mounted at /content/drive; to attempt to forcibly remount, call drive.mount(\"/content/drive\", force_remount=True).\n",
            "/content/drive/MyDrive/ColabNotebooks\n"
          ]
        }
      ]
    },
    {
      "cell_type": "code",
      "source": [],
      "metadata": {
        "id": "MPr7crp8elJ5"
      },
      "execution_count": null,
      "outputs": []
    }
  ]
}